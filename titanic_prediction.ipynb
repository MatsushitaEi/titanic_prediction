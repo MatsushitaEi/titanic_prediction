{
 "cells": [
  {
   "cell_type": "code",
   "execution_count": 71,
   "metadata": {},
   "outputs": [],
   "source": [
    "import pandas\n",
    "import numpy as np\n",
    "import sklearn\n",
    "import seaborn as sns\n",
    "import matplotlib.pyplot as plt"
   ]
  },
  {
   "cell_type": "code",
   "execution_count": 347,
   "metadata": {},
   "outputs": [
    {
     "name": "stdout",
     "output_type": "stream",
     "text": [
      "      id  survived  pclass     sex   age  sibsp  parch      fare embarked\n",
      "0      3         1       1  female  35.0      1      0   53.1000        S\n",
      "1      4         0       3    male  35.0      0      0    8.0500        S\n",
      "2      7         0       3    male   2.0      3      1   21.0750        S\n",
      "3      9         1       2  female  14.0      1      0   30.0708        C\n",
      "4     11         1       1  female  58.0      0      0   26.5500        S\n",
      "5     13         0       3    male  39.0      1      5   31.2750        S\n",
      "6     16         0       3    male   2.0      4      1   29.1250        Q\n",
      "7     19         1       3  female   NaN      0      0    7.2250        C\n",
      "8     23         1       1    male  28.0      0      0   35.5000        S\n",
      "9     24         0       3  female   8.0      3      1   21.0750        S\n",
      "10    25         1       3  female  38.0      1      5   31.3875        S\n",
      "11    26         0       3    male   NaN      0      0    7.2250        C\n",
      "12    28         1       3  female   NaN      0      0    7.8792        Q\n",
      "13    29         0       3    male   NaN      0      0    7.8958        S\n",
      "14    32         1       3  female   NaN      0      0    7.7500        Q\n",
      "15    33         0       2    male  66.0      0      0   10.5000        S\n",
      "16    36         1       3    male   NaN      0      0    7.2292        C\n",
      "17    41         0       2  female  27.0      1      0   21.0000        S\n",
      "18    42         0       3    male   NaN      0      0    7.8958        C\n",
      "19    43         1       2  female   3.0      1      2   41.5792        C\n",
      "20    44         1       3  female  19.0      0      0    7.8792        Q\n",
      "21    47         1       3  female   NaN      0      0    7.7500        Q\n",
      "22    53         1       2  female  29.0      1      0   26.0000        S\n",
      "23    56         1       2  female  21.0      0      0   10.5000        S\n",
      "24    57         0       3    male  28.5      0      0    7.2292        C\n",
      "25    58         1       2  female   5.0      1      2   27.7500        S\n",
      "26    59         0       3    male  11.0      5      2   46.9000        S\n",
      "27    61         1       1  female  38.0      0      0   80.0000      NaN\n",
      "28    63         0       3    male   4.0      3      2   27.9000        S\n",
      "29    67         0       3    male  19.0      0      0    8.1583        S\n",
      "..   ...       ...     ...     ...   ...    ...    ...       ...      ...\n",
      "415  834         0       3    male  18.0      0      0    8.3000        S\n",
      "416  835         1       1  female  39.0      1      1   83.1583        C\n",
      "417  836         0       3    male  21.0      0      0    8.6625        S\n",
      "418  840         0       3    male  20.0      0      0    7.9250        S\n",
      "419  842         1       1  female  30.0      0      0   31.0000        C\n",
      "420  844         0       3    male  17.0      0      0    8.6625        S\n",
      "421  845         0       3    male  42.0      0      0    7.5500        S\n",
      "422  846         0       3    male   NaN      8      2   69.5500        S\n",
      "423  847         0       3    male  35.0      0      0    7.8958        C\n",
      "424  849         1       1  female   NaN      1      0   89.1042        C\n",
      "425  850         0       3    male   4.0      4      2   31.2750        S\n",
      "426  853         1       1  female  16.0      0      1   39.4000        S\n",
      "427  854         0       2  female  44.0      1      0   26.0000        S\n",
      "428  855         1       3  female  18.0      0      1    9.3500        S\n",
      "429  856         1       1  female  45.0      1      1  164.8667        S\n",
      "430  858         1       3  female  24.0      0      3   19.2583        C\n",
      "431  860         0       3    male  41.0      2      0   14.1083        S\n",
      "432  861         0       2    male  21.0      1      0   11.5000        S\n",
      "433  863         0       3  female   NaN      8      2   69.5500        S\n",
      "434  865         1       2  female  42.0      0      0   13.0000        S\n",
      "435  867         0       1    male  31.0      0      0   50.4958        S\n",
      "436  868         0       3    male   NaN      0      0    9.5000        S\n",
      "437  869         1       3    male   4.0      1      1   11.1333        S\n",
      "438  871         1       1  female  47.0      1      1   52.5542        S\n",
      "439  872         0       1    male  33.0      0      0    5.0000        S\n",
      "440  873         0       3    male  47.0      0      0    9.0000        S\n",
      "441  874         1       2  female  28.0      1      0   24.0000        C\n",
      "442  879         1       1  female  56.0      0      1   83.1583        C\n",
      "443  884         0       3    male  25.0      0      0    7.0500        S\n",
      "444  888         0       3  female   NaN      1      2   23.4500        S\n",
      "\n",
      "[445 rows x 9 columns]\n"
     ]
    }
   ],
   "source": [
    "td = pandas.read_table(\"train.tsv\")\n",
    "print(td)"
   ]
  },
  {
   "cell_type": "code",
   "execution_count": 19,
   "metadata": {},
   "outputs": [
    {
     "name": "stdout",
     "output_type": "stream",
     "text": [
      "<class 'pandas.core.frame.DataFrame'>\n",
      "RangeIndex: 445 entries, 0 to 444\n",
      "Data columns (total 9 columns):\n",
      "id          445 non-null int64\n",
      "survived    445 non-null int64\n",
      "pclass      445 non-null int64\n",
      "sex         445 non-null object\n",
      "age         360 non-null float64\n",
      "sibsp       445 non-null int64\n",
      "parch       445 non-null int64\n",
      "fare        445 non-null float64\n",
      "embarked    443 non-null object\n",
      "dtypes: float64(2), int64(5), object(2)\n",
      "memory usage: 31.4+ KB\n"
     ]
    }
   ],
   "source": [
    "td.info()"
   ]
  },
  {
   "cell_type": "code",
   "execution_count": 348,
   "metadata": {},
   "outputs": [],
   "source": [
    "td.to_csv(\"td.csv\")"
   ]
  },
  {
   "cell_type": "code",
   "execution_count": 349,
   "metadata": {},
   "outputs": [
    {
     "name": "stdout",
     "output_type": "stream",
     "text": [
      "id           0\n",
      "survived     0\n",
      "pclass       0\n",
      "sex          0\n",
      "age         85\n",
      "sibsp        0\n",
      "parch        0\n",
      "fare         0\n",
      "embarked     2\n",
      "dtype: int64\n"
     ]
    }
   ],
   "source": [
    "print(td.isnull().sum())"
   ]
  },
  {
   "cell_type": "code",
   "execution_count": 350,
   "metadata": {},
   "outputs": [],
   "source": [
    "#欠損値がある為、ageとembarkedを削除\n",
    "td=td.drop(\"embarked\",axis=1)\n",
    "td=td.drop(\"age\",axis=1)"
   ]
  },
  {
   "cell_type": "code",
   "execution_count": 351,
   "metadata": {},
   "outputs": [
    {
     "data": {
      "text/html": [
       "<div>\n",
       "<table border=\"1\" class=\"dataframe\">\n",
       "  <thead>\n",
       "    <tr style=\"text-align: right;\">\n",
       "      <th></th>\n",
       "      <th>id</th>\n",
       "      <th>survived</th>\n",
       "      <th>pclass</th>\n",
       "      <th>sex</th>\n",
       "      <th>sibsp</th>\n",
       "      <th>parch</th>\n",
       "      <th>fare</th>\n",
       "    </tr>\n",
       "  </thead>\n",
       "  <tbody>\n",
       "    <tr>\n",
       "      <th>0</th>\n",
       "      <td>3</td>\n",
       "      <td>1</td>\n",
       "      <td>1</td>\n",
       "      <td>1</td>\n",
       "      <td>1</td>\n",
       "      <td>0</td>\n",
       "      <td>53.1000</td>\n",
       "    </tr>\n",
       "    <tr>\n",
       "      <th>1</th>\n",
       "      <td>4</td>\n",
       "      <td>0</td>\n",
       "      <td>3</td>\n",
       "      <td>0</td>\n",
       "      <td>0</td>\n",
       "      <td>0</td>\n",
       "      <td>8.0500</td>\n",
       "    </tr>\n",
       "    <tr>\n",
       "      <th>2</th>\n",
       "      <td>7</td>\n",
       "      <td>0</td>\n",
       "      <td>3</td>\n",
       "      <td>0</td>\n",
       "      <td>3</td>\n",
       "      <td>1</td>\n",
       "      <td>21.0750</td>\n",
       "    </tr>\n",
       "    <tr>\n",
       "      <th>3</th>\n",
       "      <td>9</td>\n",
       "      <td>1</td>\n",
       "      <td>2</td>\n",
       "      <td>1</td>\n",
       "      <td>1</td>\n",
       "      <td>0</td>\n",
       "      <td>30.0708</td>\n",
       "    </tr>\n",
       "    <tr>\n",
       "      <th>4</th>\n",
       "      <td>11</td>\n",
       "      <td>1</td>\n",
       "      <td>1</td>\n",
       "      <td>1</td>\n",
       "      <td>0</td>\n",
       "      <td>0</td>\n",
       "      <td>26.5500</td>\n",
       "    </tr>\n",
       "  </tbody>\n",
       "</table>\n",
       "</div>"
      ],
      "text/plain": [
       "   id  survived  pclass  sex  sibsp  parch     fare\n",
       "0   3         1       1    1      1      0  53.1000\n",
       "1   4         0       3    0      0      0   8.0500\n",
       "2   7         0       3    0      3      1  21.0750\n",
       "3   9         1       2    1      1      0  30.0708\n",
       "4  11         1       1    1      0      0  26.5500"
      ]
     },
     "execution_count": 351,
     "metadata": {},
     "output_type": "execute_result"
    }
   ],
   "source": [
    "#性別も変換\n",
    "#男：0、女：1\n",
    "td.sex.replace('male', 0,inplace=True)\n",
    "td.sex.replace('female', 1,inplace=True)\n",
    "td.head()"
   ]
  },
  {
   "cell_type": "code",
   "execution_count": 126,
   "metadata": {},
   "outputs": [
    {
     "data": {
      "text/html": [
       "<div>\n",
       "<table border=\"1\" class=\"dataframe\">\n",
       "  <thead>\n",
       "    <tr style=\"text-align: right;\">\n",
       "      <th></th>\n",
       "      <th>id</th>\n",
       "      <th>survived</th>\n",
       "      <th>pclass</th>\n",
       "      <th>sex</th>\n",
       "      <th>sibsp</th>\n",
       "      <th>parch</th>\n",
       "      <th>fare</th>\n",
       "    </tr>\n",
       "  </thead>\n",
       "  <tbody>\n",
       "    <tr>\n",
       "      <th>id</th>\n",
       "      <td>1.000000</td>\n",
       "      <td>0.024264</td>\n",
       "      <td>-0.059345</td>\n",
       "      <td>-0.033435</td>\n",
       "      <td>-0.020491</td>\n",
       "      <td>-0.031417</td>\n",
       "      <td>0.077649</td>\n",
       "    </tr>\n",
       "    <tr>\n",
       "      <th>survived</th>\n",
       "      <td>0.024264</td>\n",
       "      <td>1.000000</td>\n",
       "      <td>-0.358097</td>\n",
       "      <td>0.559465</td>\n",
       "      <td>-0.045087</td>\n",
       "      <td>0.079669</td>\n",
       "      <td>0.258605</td>\n",
       "    </tr>\n",
       "    <tr>\n",
       "      <th>pclass</th>\n",
       "      <td>-0.059345</td>\n",
       "      <td>-0.358097</td>\n",
       "      <td>1.000000</td>\n",
       "      <td>-0.193761</td>\n",
       "      <td>0.069857</td>\n",
       "      <td>-0.015726</td>\n",
       "      <td>-0.549651</td>\n",
       "    </tr>\n",
       "    <tr>\n",
       "      <th>sex</th>\n",
       "      <td>-0.033435</td>\n",
       "      <td>0.559465</td>\n",
       "      <td>-0.193761</td>\n",
       "      <td>1.000000</td>\n",
       "      <td>0.097883</td>\n",
       "      <td>0.220046</td>\n",
       "      <td>0.168935</td>\n",
       "    </tr>\n",
       "    <tr>\n",
       "      <th>sibsp</th>\n",
       "      <td>-0.020491</td>\n",
       "      <td>-0.045087</td>\n",
       "      <td>0.069857</td>\n",
       "      <td>0.097883</td>\n",
       "      <td>1.000000</td>\n",
       "      <td>0.423522</td>\n",
       "      <td>0.164773</td>\n",
       "    </tr>\n",
       "    <tr>\n",
       "      <th>parch</th>\n",
       "      <td>-0.031417</td>\n",
       "      <td>0.079669</td>\n",
       "      <td>-0.015726</td>\n",
       "      <td>0.220046</td>\n",
       "      <td>0.423522</td>\n",
       "      <td>1.000000</td>\n",
       "      <td>0.241855</td>\n",
       "    </tr>\n",
       "    <tr>\n",
       "      <th>fare</th>\n",
       "      <td>0.077649</td>\n",
       "      <td>0.258605</td>\n",
       "      <td>-0.549651</td>\n",
       "      <td>0.168935</td>\n",
       "      <td>0.164773</td>\n",
       "      <td>0.241855</td>\n",
       "      <td>1.000000</td>\n",
       "    </tr>\n",
       "  </tbody>\n",
       "</table>\n",
       "</div>"
      ],
      "text/plain": [
       "                id  survived    pclass       sex     sibsp     parch      fare\n",
       "id        1.000000  0.024264 -0.059345 -0.033435 -0.020491 -0.031417  0.077649\n",
       "survived  0.024264  1.000000 -0.358097  0.559465 -0.045087  0.079669  0.258605\n",
       "pclass   -0.059345 -0.358097  1.000000 -0.193761  0.069857 -0.015726 -0.549651\n",
       "sex      -0.033435  0.559465 -0.193761  1.000000  0.097883  0.220046  0.168935\n",
       "sibsp    -0.020491 -0.045087  0.069857  0.097883  1.000000  0.423522  0.164773\n",
       "parch    -0.031417  0.079669 -0.015726  0.220046  0.423522  1.000000  0.241855\n",
       "fare      0.077649  0.258605 -0.549651  0.168935  0.164773  0.241855  1.000000"
      ]
     },
     "execution_count": 126,
     "metadata": {},
     "output_type": "execute_result"
    }
   ],
   "source": [
    "td.corr()"
   ]
  },
  {
   "cell_type": "code",
   "execution_count": 161,
   "metadata": {},
   "outputs": [
    {
     "data": {
      "text/plain": [
       "<matplotlib.axes._subplots.AxesSubplot at 0x134059b38>"
      ]
     },
     "execution_count": 161,
     "metadata": {},
     "output_type": "execute_result"
    },
    {
     "data": {
      "image/png": "[encoded data removed]",
      "text/plain": [
       "<Figure size 432x288 with 2 Axes>"
      ]
     },
     "metadata": {
      "needs_background": "light"
     },
     "output_type": "display_data"
    }
   ],
   "source": [
    "#生存値と各値の相関係数を可視化\n",
    "heatMap=td.corr()\n",
    "sns.heatmap(heatMap, vmax=1, vmin=-1, center=0)"
   ]
  },
  {
   "cell_type": "code",
   "execution_count": 352,
   "metadata": {},
   "outputs": [
    {
     "name": "stdout",
     "output_type": "stream",
     "text": [
      "Accuracy (mean): 0.7954465902692173\n",
      "AUC (mean): 0.838918080057863\n"
     ]
    },
    {
     "name": "stderr",
     "output_type": "stream",
     "text": [
      "/Users/matsushitaei/.pyenv/versions/anaconda3-4.2.0/lib/python3.5/site-packages/sklearn/model_selection/_split.py:598: FutureWarning: You should specify a value for 'n_splits' instead of relying on the default value. The default value will change from 3 to 5 in version 0.22.\n",
      "  warnings.warn(NSPLIT_WARNING, FutureWarning)\n",
      "/Users/matsushitaei/.pyenv/versions/anaconda3-4.2.0/lib/python3.5/site-packages/sklearn/linear_model/logistic.py:432: FutureWarning: Default solver will be changed to 'lbfgs' in 0.22. Specify a solver to silence this warning.\n",
      "  FutureWarning)\n",
      "/Users/matsushitaei/.pyenv/versions/anaconda3-4.2.0/lib/python3.5/site-packages/sklearn/linear_model/logistic.py:432: FutureWarning: Default solver will be changed to 'lbfgs' in 0.22. Specify a solver to silence this warning.\n",
      "  FutureWarning)\n",
      "/Users/matsushitaei/.pyenv/versions/anaconda3-4.2.0/lib/python3.5/site-packages/sklearn/linear_model/logistic.py:432: FutureWarning: Default solver will be changed to 'lbfgs' in 0.22. Specify a solver to silence this warning.\n",
      "  FutureWarning)\n"
     ]
    }
   ],
   "source": [
    "#ロジスティック回帰により生存確率を求めてみる\n",
    "from sklearn.linear_model import LogisticRegression\n",
    "from sklearn.model_selection import StratifiedKFold\n",
    "from sklearn.model_selection import cross_validate\n",
    "\n",
    "#データセットを説明変数と目的変数に分割\n",
    "X, y = td.drop([\"id\",\"survived\"],axis=1), td.survived\n",
    "clf = LogisticRegression()\n",
    "# Stratified K-Fold CV で性能を評価する\n",
    "skf = StratifiedKFold(shuffle=True)\n",
    "scoring = {\n",
    "    'acc': 'accuracy',\n",
    "    'auc': 'roc_auc',\n",
    "}\n",
    "scores = cross_validate(clf, X, y, cv=skf, scoring=scoring)\n",
    "print('Accuracy (mean):', scores['test_acc'].mean())\n",
    "print('AUC (mean):', scores['test_auc'].mean())"
   ]
  },
  {
   "cell_type": "code",
   "execution_count": 353,
   "metadata": {},
   "outputs": [
    {
     "name": "stdout",
     "output_type": "stream",
     "text": [
      "train result: 0.8198198198198198\n",
      "test result: 0.7321428571428571\n",
      "各説明変数の係数: [[-0.78344758  2.76533564 -0.15102586 -0.18003761  0.00569394]]\n"
     ]
    },
    {
     "name": "stderr",
     "output_type": "stream",
     "text": [
      "/Users/matsushitaei/.pyenv/versions/anaconda3-4.2.0/lib/python3.5/site-packages/sklearn/linear_model/logistic.py:432: FutureWarning: Default solver will be changed to 'lbfgs' in 0.22. Specify a solver to silence this warning.\n",
      "  FutureWarning)\n"
     ]
    }
   ],
   "source": [
    "#モデルを当てはめてみる\n",
    "from sklearn.model_selection import train_test_split\n",
    "\n",
    "X, y = td.drop([\"id\",\"survived\"],axis=1), td.survived\n",
    "X_train, X_test, y_train, y_test = train_test_split(X, y, shuffle=True, random_state=0)\n",
    "clf.fit(X_train, y_train)\n",
    "\n",
    "print(\"train result:\",clf.score(X_train,y_train))\n",
    "print(\"test result:\" , clf.score(X_test,y_test))\n",
    "print(\"各説明変数の係数:\",clf.coef_)"
   ]
  },
  {
   "cell_type": "code",
   "execution_count": 354,
   "metadata": {},
   "outputs": [
    {
     "name": "stdout",
     "output_type": "stream",
     "text": [
      "train result: 0.8228228228228228\n",
      "test result: 0.7321428571428571\n",
      "各説明変数の係数: [[-0.71021403  1.4221357  -0.18830798 -0.16662194  0.30253793]]\n"
     ]
    },
    {
     "name": "stderr",
     "output_type": "stream",
     "text": [
      "/Users/matsushitaei/.pyenv/versions/anaconda3-4.2.0/lib/python3.5/site-packages/sklearn/preprocessing/data.py:617: DataConversionWarning: Data with input dtype int64, float64 were all converted to float64 by StandardScaler.\n",
      "  return self.partial_fit(X, y)\n",
      "/Users/matsushitaei/.pyenv/versions/anaconda3-4.2.0/lib/python3.5/site-packages/ipykernel/__main__.py:6: DataConversionWarning: Data with input dtype int64, float64 were all converted to float64 by StandardScaler.\n",
      "/Users/matsushitaei/.pyenv/versions/anaconda3-4.2.0/lib/python3.5/site-packages/ipykernel/__main__.py:7: DataConversionWarning: Data with input dtype int64, float64 were all converted to float64 by StandardScaler.\n",
      "/Users/matsushitaei/.pyenv/versions/anaconda3-4.2.0/lib/python3.5/site-packages/sklearn/linear_model/logistic.py:432: FutureWarning: Default solver will be changed to 'lbfgs' in 0.22. Specify a solver to silence this warning.\n",
      "  FutureWarning)\n"
     ]
    }
   ],
   "source": [
    "#標準化によるスケーリングをしてみる\n",
    "from sklearn.preprocessing import StandardScaler\n",
    "\n",
    "sc = StandardScaler()\n",
    "sc.fit(X_train)\n",
    "X_train_std = sc.transform(X_train)\n",
    "X_test_std = sc.transform(X_test)\n",
    "clf.fit(X_train_std, y_train)\n",
    "\n",
    "print(\"train result:\",clf.score(X_train_std,y_train))\n",
    "print(\"test result:\" , clf.score(X_test_std,y_test))\n",
    "print(\"各説明変数の係数:\",clf.coef_)"
   ]
  },
  {
   "cell_type": "code",
   "execution_count": 364,
   "metadata": {},
   "outputs": [],
   "source": [
    "#提出データについても予測してみる\n",
    "\n",
    "test = pandas.read_table(\"test.tsv\")\n",
    "#欠損値がある為、ageとembarkedを削除\n",
    "#ただしテストデータにはnull値ない可能性あり。\n",
    "test = test.drop(\"embarked\",axis=1)\n",
    "test = test.drop(\"age\",axis=1)\n",
    "#性別も変換\n",
    "#男：0、女：1\n",
    "test.sex.replace('male', 0,inplace=True)\n",
    "test.sex.replace('female', 1,inplace=True)\n",
    "test.head()\n",
    "\n",
    "X_predict = test.drop([\"id\"],axis=1)\n",
    "#標準化によるスケーリング\n",
    "from sklearn.preprocessing import StandardScaler\n",
    "sc = StandardScaler()\n",
    "sc.fit(X_predict)\n",
    "X_predict_std=sc.transform(X_predict)\n",
    "res = clf.predict(X_predict_std)\n",
    "\n",
    "#提出用にtsv出力\n",
    "df=pandas.DataFrame(test[\"id\"])\n",
    "df[\"res\"]=res\n",
    "df.to_csv(\"result.tsv\",index=False,sep=\"\\t\",header=False)"
   ]
  },
  {
   "cell_type": "code",
   "execution_count": 372,
   "metadata": {},
   "outputs": [
    {
     "data": {
      "text/html": [
       "<div>\n",
       "<table border=\"1\" class=\"dataframe\">\n",
       "  <thead>\n",
       "    <tr style=\"text-align: right;\">\n",
       "      <th></th>\n",
       "      <th>id</th>\n",
       "      <th>survived</th>\n",
       "      <th>pclass</th>\n",
       "      <th>sex</th>\n",
       "      <th>sibsp</th>\n",
       "      <th>parch</th>\n",
       "      <th>fare</th>\n",
       "      <th>family</th>\n",
       "    </tr>\n",
       "  </thead>\n",
       "  <tbody>\n",
       "    <tr>\n",
       "      <th>0</th>\n",
       "      <td>3</td>\n",
       "      <td>1</td>\n",
       "      <td>1</td>\n",
       "      <td>1</td>\n",
       "      <td>1</td>\n",
       "      <td>0</td>\n",
       "      <td>53.1000</td>\n",
       "      <td>1</td>\n",
       "    </tr>\n",
       "    <tr>\n",
       "      <th>1</th>\n",
       "      <td>4</td>\n",
       "      <td>0</td>\n",
       "      <td>3</td>\n",
       "      <td>0</td>\n",
       "      <td>0</td>\n",
       "      <td>0</td>\n",
       "      <td>8.0500</td>\n",
       "      <td>0</td>\n",
       "    </tr>\n",
       "    <tr>\n",
       "      <th>2</th>\n",
       "      <td>7</td>\n",
       "      <td>0</td>\n",
       "      <td>3</td>\n",
       "      <td>0</td>\n",
       "      <td>3</td>\n",
       "      <td>1</td>\n",
       "      <td>21.0750</td>\n",
       "      <td>4</td>\n",
       "    </tr>\n",
       "    <tr>\n",
       "      <th>3</th>\n",
       "      <td>9</td>\n",
       "      <td>1</td>\n",
       "      <td>2</td>\n",
       "      <td>1</td>\n",
       "      <td>1</td>\n",
       "      <td>0</td>\n",
       "      <td>30.0708</td>\n",
       "      <td>1</td>\n",
       "    </tr>\n",
       "    <tr>\n",
       "      <th>4</th>\n",
       "      <td>11</td>\n",
       "      <td>1</td>\n",
       "      <td>1</td>\n",
       "      <td>1</td>\n",
       "      <td>0</td>\n",
       "      <td>0</td>\n",
       "      <td>26.5500</td>\n",
       "      <td>0</td>\n",
       "    </tr>\n",
       "  </tbody>\n",
       "</table>\n",
       "</div>"
      ],
      "text/plain": [
       "   id  survived  pclass  sex  sibsp  parch     fare  family\n",
       "0   3         1       1    1      1      0  53.1000       1\n",
       "1   4         0       3    0      0      0   8.0500       0\n",
       "2   7         0       3    0      3      1  21.0750       4\n",
       "3   9         1       2    1      1      0  30.0708       1\n",
       "4  11         1       1    1      0      0  26.5500       0"
      ]
     },
     "execution_count": 372,
     "metadata": {},
     "output_type": "execute_result"
    }
   ],
   "source": [
    "#そんなに結果が良くなさそうなので説明変数の変更をしてみる\n",
    "td = pandas.read_table(\"train.tsv\")\n",
    "td.to_csv(\"td.csv\")\n",
    "\n",
    "#欠損値がある為、ageとembarkedを削除\n",
    "td=td.drop(\"embarked\",axis=1)\n",
    "td=td.drop(\"age\",axis=1)\n",
    "#性別も変換\n",
    "#男：0、女：1\n",
    "td.sex.replace('male', 0,inplace=True)\n",
    "td.sex.replace('female', 1,inplace=True)\n",
    "\n",
    "#familyカラムとして家族人数を追加\n",
    "td[\"family\"]=td.sibsp+td.parch\n",
    "td.head()"
   ]
  },
  {
   "cell_type": "code",
   "execution_count": 379,
   "metadata": {},
   "outputs": [
    {
     "name": "stdout",
     "output_type": "stream",
     "text": [
      "train result: 0.8228228228228228\n",
      "test result: 0.7232142857142857\n",
      "各説明変数の係数: [[-0.709804    1.42267016 -0.10297272 -0.10930269  0.30344703 -0.12403885]]\n"
     ]
    },
    {
     "name": "stderr",
     "output_type": "stream",
     "text": [
      "/Users/matsushitaei/.pyenv/versions/anaconda3-4.2.0/lib/python3.5/site-packages/sklearn/linear_model/logistic.py:432: FutureWarning: Default solver will be changed to 'lbfgs' in 0.22. Specify a solver to silence this warning.\n",
      "  FutureWarning)\n",
      "/Users/matsushitaei/.pyenv/versions/anaconda3-4.2.0/lib/python3.5/site-packages/sklearn/preprocessing/data.py:617: DataConversionWarning: Data with input dtype int64, float64 were all converted to float64 by StandardScaler.\n",
      "  return self.partial_fit(X, y)\n",
      "/Users/matsushitaei/.pyenv/versions/anaconda3-4.2.0/lib/python3.5/site-packages/ipykernel/__main__.py:13: DataConversionWarning: Data with input dtype int64, float64 were all converted to float64 by StandardScaler.\n",
      "/Users/matsushitaei/.pyenv/versions/anaconda3-4.2.0/lib/python3.5/site-packages/sklearn/preprocessing/data.py:617: DataConversionWarning: Data with input dtype int64, float64 were all converted to float64 by StandardScaler.\n",
      "  return self.partial_fit(X, y)\n",
      "/Users/matsushitaei/.pyenv/versions/anaconda3-4.2.0/lib/python3.5/site-packages/ipykernel/__main__.py:15: DataConversionWarning: Data with input dtype int64, float64 were all converted to float64 by StandardScaler.\n",
      "/Users/matsushitaei/.pyenv/versions/anaconda3-4.2.0/lib/python3.5/site-packages/sklearn/preprocessing/data.py:617: DataConversionWarning: Data with input dtype int64, float64 were all converted to float64 by StandardScaler.\n",
      "  return self.partial_fit(X, y)\n",
      "/Users/matsushitaei/.pyenv/versions/anaconda3-4.2.0/lib/python3.5/site-packages/ipykernel/__main__.py:17: DataConversionWarning: Data with input dtype int64, float64 were all converted to float64 by StandardScaler.\n",
      "/Users/matsushitaei/.pyenv/versions/anaconda3-4.2.0/lib/python3.5/site-packages/sklearn/linear_model/logistic.py:432: FutureWarning: Default solver will be changed to 'lbfgs' in 0.22. Specify a solver to silence this warning.\n",
      "  FutureWarning)\n"
     ]
    }
   ],
   "source": [
    "#モデルを当てはめてみる\n",
    "from sklearn.model_selection import train_test_split\n",
    "\n",
    "X, y = td.drop([\"id\",\"survived\"],axis=1), td.survived\n",
    "X_train, X_test, y_train, y_test = train_test_split(X, y, shuffle=True, random_state=0)\n",
    "clf.fit(X_train, y_train)\n",
    "\n",
    "#標準化によるスケーリング\n",
    "from sklearn.preprocessing import StandardScaler\n",
    "\n",
    "sc = StandardScaler()\n",
    "sc.fit(X)\n",
    "X_std=sc.transform(X)\n",
    "sc.fit(X_train)\n",
    "X_train_std = sc.transform(X_train)\n",
    "sc.fit(X_test)\n",
    "X_test_std = sc.transform(X_test)\n",
    "clf.fit(X_train_std, y_train)\n",
    "\n",
    "print(\"train result:\",clf.score(X_train_std,y_train))\n",
    "print(\"test result:\" , clf.score(X_test_std,y_test))\n",
    "print(\"各説明変数の係数:\",clf.coef_)"
   ]
  },
  {
   "cell_type": "code",
   "execution_count": 390,
   "metadata": {},
   "outputs": [
    {
     "name": "stdout",
     "output_type": "stream",
     "text": [
      "Accuracy (mean)(決定木): 0.7393865622517308\n",
      "AUC (mean)(決定木): 0.7211607766796446\n",
      "Accuracy (mean)(ランダムフォレスト): 0.74832709113608\n",
      "AUC (mean)(ランダムフォレスト): 0.7896235288897763\n",
      "Accuracy (mean)(SVM): 0.7956730223584157\n",
      "AUC (mean)(SVM): 0.8374552427539849\n"
     ]
    },
    {
     "name": "stderr",
     "output_type": "stream",
     "text": [
      "/Users/matsushitaei/.pyenv/versions/anaconda3-4.2.0/lib/python3.5/site-packages/sklearn/ensemble/forest.py:248: FutureWarning: The default value of n_estimators will change from 10 in version 0.20 to 100 in 0.22.\n",
      "  \"10 in version 0.20 to 100 in 0.22.\", FutureWarning)\n",
      "/Users/matsushitaei/.pyenv/versions/anaconda3-4.2.0/lib/python3.5/site-packages/sklearn/svm/base.py:196: FutureWarning: The default value of gamma will change from 'auto' to 'scale' in version 0.22 to account better for unscaled features. Set gamma explicitly to 'auto' or 'scale' to avoid this warning.\n",
      "  \"avoid this warning.\", FutureWarning)\n",
      "/Users/matsushitaei/.pyenv/versions/anaconda3-4.2.0/lib/python3.5/site-packages/sklearn/svm/base.py:196: FutureWarning: The default value of gamma will change from 'auto' to 'scale' in version 0.22 to account better for unscaled features. Set gamma explicitly to 'auto' or 'scale' to avoid this warning.\n",
      "  \"avoid this warning.\", FutureWarning)\n",
      "/Users/matsushitaei/.pyenv/versions/anaconda3-4.2.0/lib/python3.5/site-packages/sklearn/svm/base.py:196: FutureWarning: The default value of gamma will change from 'auto' to 'scale' in version 0.22 to account better for unscaled features. Set gamma explicitly to 'auto' or 'scale' to avoid this warning.\n",
      "  \"avoid this warning.\", FutureWarning)\n",
      "/Users/matsushitaei/.pyenv/versions/anaconda3-4.2.0/lib/python3.5/site-packages/sklearn/svm/base.py:196: FutureWarning: The default value of gamma will change from 'auto' to 'scale' in version 0.22 to account better for unscaled features. Set gamma explicitly to 'auto' or 'scale' to avoid this warning.\n",
      "  \"avoid this warning.\", FutureWarning)\n",
      "/Users/matsushitaei/.pyenv/versions/anaconda3-4.2.0/lib/python3.5/site-packages/sklearn/svm/base.py:196: FutureWarning: The default value of gamma will change from 'auto' to 'scale' in version 0.22 to account better for unscaled features. Set gamma explicitly to 'auto' or 'scale' to avoid this warning.\n",
      "  \"avoid this warning.\", FutureWarning)\n"
     ]
    }
   ],
   "source": [
    "#結果がそんなに変わらないようなのでモデルとして決定木とランダムフォレストを試す\n",
    "\n",
    "#決定木\n",
    "from sklearn.tree import DecisionTreeClassifier\n",
    "clf = DecisionTreeClassifier(random_state=0)\n",
    "clf = clf.fit(X_train_std,y_train)\n",
    "\n",
    "# Stratified K-Fold CV で性能を評価する\n",
    "skf = StratifiedKFold(shuffle=True,n_splits=5)\n",
    "scoring = {\n",
    "    'acc': 'accuracy',\n",
    "    'auc': 'roc_auc',\n",
    "}\n",
    "scores = cross_validate(clf, X_std, y, cv=skf, scoring=scoring)\n",
    "print('Accuracy (mean)(決定木):', scores['test_acc'].mean())\n",
    "print('AUC (mean)(決定木):', scores['test_auc'].mean())\n",
    "\n",
    "\n",
    "#ランダムフォレスト\n",
    "from sklearn.ensemble import RandomForestClassifier\n",
    "clf = RandomForestClassifier(random_state=0)\n",
    "clf = clf.fit(X_train_std,y_train)\n",
    "\n",
    "# Stratified K-Fold CV で性能を評価する\n",
    "skf = StratifiedKFold(shuffle=True,n_splits=5)\n",
    "scoring = {\n",
    "    'acc': 'accuracy',\n",
    "    'auc': 'roc_auc',\n",
    "}\n",
    "scores = cross_validate(clf, X_std, y, cv=skf, scoring=scoring)\n",
    "print('Accuracy (mean)(ランダムフォレスト):', scores['test_acc'].mean())\n",
    "print('AUC (mean)(ランダムフォレスト):', scores['test_auc'].mean())\n",
    "\n",
    "# SVM\n",
    "from sklearn import svm\n",
    "clf = svm.SVC()\n",
    "clf.fit(X_train_std,y_train) \n",
    "\n",
    "# Stratified K-Fold CV で性能を評価する\n",
    "skf = StratifiedKFold(shuffle=True,n_splits=5)\n",
    "scoring = {\n",
    "    'acc': 'accuracy',\n",
    "    'auc': 'roc_auc',\n",
    "}\n",
    "scores = cross_validate(clf, X_std, y, cv=skf, scoring=scoring)\n",
    "print('Accuracy (mean)(SVM):', scores['test_acc'].mean())\n",
    "print('AUC (mean)(SVM):', scores['test_auc'].mean())"
   ]
  },
  {
   "cell_type": "code",
   "execution_count": 394,
   "metadata": {},
   "outputs": [
    {
     "name": "stderr",
     "output_type": "stream",
     "text": [
      "/Users/matsushitaei/.pyenv/versions/anaconda3-4.2.0/lib/python3.5/site-packages/sklearn/preprocessing/data.py:617: DataConversionWarning: Data with input dtype int64, float64 were all converted to float64 by StandardScaler.\n",
      "  return self.partial_fit(X, y)\n",
      "/Users/matsushitaei/.pyenv/versions/anaconda3-4.2.0/lib/python3.5/site-packages/ipykernel/__main__.py:24: DataConversionWarning: Data with input dtype int64, float64 were all converted to float64 by StandardScaler.\n"
     ]
    }
   ],
   "source": [
    "#上の結果からSVMが最も精度が高いので、これで提出してみる。\n",
    "#ランダムフォレストもパラメータのチューニングしたらもっと良くなると思うが、今回は練習のため利用しない\n",
    "\n",
    "test = pandas.read_table(\"test.tsv\")\n",
    "#欠損値がある為、ageとembarkedを削除\n",
    "#ただしテストデータにはnull値ない可能性あり。\n",
    "test = test.drop(\"embarked\",axis=1)\n",
    "test = test.drop(\"age\",axis=1)\n",
    "#性別も変換\n",
    "#男：0、女：1\n",
    "test.sex.replace('male', 0,inplace=True)\n",
    "test.sex.replace('female', 1,inplace=True)\n",
    "\n",
    "#familyカラムとして家族人数を追加\n",
    "test[\"family\"]=test.sibsp+test.parch\n",
    "test.head()\n",
    "\n",
    "X_predict = test.drop([\"id\"],axis=1)\n",
    "\n",
    "#標準化によるスケーリング\n",
    "from sklearn.preprocessing import StandardScaler\n",
    "sc = StandardScaler()\n",
    "sc.fit(X_predict)\n",
    "X_predict_std=sc.transform(X_predict)\n",
    "\n",
    "#SVMによる学習\n",
    "clf = svm.SVC()\n",
    "clf.fit(X_train_std,y_train)\n",
    "\n",
    "#テストデータの予測\n",
    "res = clf.predict(X_predict_std)\n",
    "\n",
    "#提出用にtsv出力\n",
    "df=pandas.DataFrame(test[\"id\"])\n",
    "df[\"res\"]=res\n",
    "df.to_csv(\"result.tsv\",index=False,sep=\"\\t\",header=False)"
   ]
  }
 ],
 "metadata": {
  "anaconda-cloud": {},
  "kernelspec": {
   "display_name": "Python [conda env:anaconda3-4.2.0]",
   "language": "python",
   "name": "conda-env-anaconda3-4.2.0-py"
  },
  "language_info": {
   "codemirror_mode": {
    "name": "ipython",
    "version": 3
   },
   "file_extension": ".py",
   "mimetype": "text/x-python",
   "name": "python",
   "nbconvert_exporter": "python",
   "pygments_lexer": "ipython3",
   "version": "3.5.2"
  }
 },
 "nbformat": 4,
 "nbformat_minor": 2
}
